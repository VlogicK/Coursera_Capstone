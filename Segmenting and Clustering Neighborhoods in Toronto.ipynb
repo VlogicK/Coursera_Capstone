{
    "nbformat_minor": 1, 
    "cells": [
        {
            "source": "### Segmenting and Clustering Neighborhoods in Toronto\n", 
            "cell_type": "markdown", 
            "metadata": {
                "collapsed": true
            }
        }, 
        {
            "source": "import numpy as np\nimport pandas as pd\nimport json\nimport matplotlib as mpl\nimport matplotlib.cm as cm\nimport matplotlib.colors as colors\nfrom sklearn.cluster import KMeans\nimport requests\nfrom pandas.io.json import json_normalize\n", 
            "cell_type": "code", 
            "metadata": {}, 
            "outputs": [], 
            "execution_count": 1
        }, 
        {
            "source": "!conda install -c conda-forge geopy --yes\n!conda install -c conda-forge folium=0.5.0 --yes\n\nimport folium\n\nprint('Libraries imported.')", 
            "cell_type": "code", 
            "metadata": {}, 
            "outputs": [
                {
                    "output_type": "stream", 
                    "name": "stdout", 
                    "text": "Fetching package metadata .............\nSolving package specifications: .\n\nPackage plan for installation in environment /opt/conda/envs/DSX-Python35:\n\nThe following NEW packages will be INSTALLED:\n\n    geographiclib: 1.49-py_0   conda-forge\n    geopy:         1.19.0-py_0 conda-forge\n\ngeographiclib- 100% |################################| Time: 0:00:00  26.50 MB/s\ngeopy-1.19.0-p 100% |################################| Time: 0:00:00  10.60 MB/s\nFetching package metadata .............\nSolving package specifications: .\n\nPackage plan for installation in environment /opt/conda/envs/DSX-Python35:\n\nThe following NEW packages will be INSTALLED:\n\n    altair:  2.2.2-py35_1 conda-forge\n    branca:  0.3.1-py_0   conda-forge\n    folium:  0.5.0-py_0   conda-forge\n    vincent: 0.4.4-py_1   conda-forge\n\naltair-2.2.2-p 100% |################################| Time: 0:00:00  10.08 MB/s\nbranca-0.3.1-p 100% |################################| Time: 0:00:00  37.53 MB/s\nvincent-0.4.4- 100% |################################| Time: 0:00:00  42.27 MB/s\nfolium-0.5.0-p 100% |################################| Time: 0:00:00  51.07 MB/s\nLibraries imported.\n"
                }
            ], 
            "execution_count": 4
        }, 
        {
            "source": "from bs4 import BeautifulSoup\n\nwiki=\"https://en.wikipedia.org/wiki/List_of_postal_codes_of_Canada:_M\"\nwiki_raw=requests.get(wiki).text\n\n#BeautifulSoup to parse the code\nsoup_wiki = BeautifulSoup(wiki_raw,'xml')\n\n", 
            "cell_type": "code", 
            "metadata": {}, 
            "outputs": [], 
            "execution_count": 14
        }, 
        {
            "source": "table = soup_wiki.find('table')\n\nPostcode      = []\nBorough       = []\nNeighbourhood = []\n\n# extracting the table\nfor tr_cell in table.find_all('tr'):\n    \n    counter = 1\n    Postcode_var      = -1\n    Borough_var       = -1\n    Neighbourhood_var = -1\n    \n    for td_cell in tr_cell.find_all('td'):\n        if counter == 1: \n            Postcode_var = td_cell.text\n        if counter == 2: \n            Borough_var = td_cell.text\n            tag_a_Borough = td_cell.find('a')\n            \n        if counter == 3: \n            Neighbourhood_var = str(td_cell.text).strip()\n            tag_a_Neighbourhood = td_cell.find('a')\n            \n        counter +=1\n        \n    if (Postcode_var == 'Not assigned' or Borough_var == 'Not assigned' or Neighbourhood_var == 'Not assigned'): \n        continue\n    try:\n        if ((tag_a_Borough is None) or (tag_a_Neighbourhood is None)):\n            continue\n    except:\n        pass\n    if(Postcode_var == -1 or Borough_var == -1 or Neighbourhood_var == -1):\n        continue\n        \n    Postcode.append(Postcode_var)\n    Borough.append(Borough_var)\n    Neighbourhood.append(Neighbourhood_var)\n", 
            "cell_type": "code", 
            "metadata": {}, 
            "outputs": [], 
            "execution_count": 15
        }, 
        {
            "source": "#finding out unique postal codes\n\nunique_p = set(Postcode)\nprint('num of unique Postal codes:', len(unique_p))\nPostcode_unique      = []\nBorough_unique       = []\nNeighbourhood_unique = []\n\n\nfor postcode_unique_element in unique_p:\n    p_var = ''; b_var = ''; n_var = ''; \n    for postcode_idx, postcode_element in enumerate(Postcode):\n        if postcode_unique_element == postcode_element:\n            p_var = postcode_element;\n            b_var = Borough[postcode_idx]\n            if n_var == '': \n                n_var = Neighbourhood[postcode_idx]\n            else:\n                n_var = n_var + ', ' + Neighbourhood[postcode_idx]\n    Postcode_unique.append(p_var)\n    Borough_unique.append(b_var)\n    Neighbourhood_unique.append(n_var)", 
            "cell_type": "code", 
            "metadata": {}, 
            "outputs": [
                {
                    "output_type": "stream", 
                    "name": "stdout", 
                    "text": "num of unique Postal codes: 77\n"
                }
            ], 
            "execution_count": 10
        }, 
        {
            "source": "#creating the dataframe\ntoronto = {'Postcode':Postcode_unique, 'Borough':Borough_unique, 'Neighbourhood':Neighbourhood_unique}\ndf_toronto = pd.DataFrame.from_dict(toronto)\ndf_toronto.to_csv('toronto_part1.csv')\ndf_toronto.head(14)", 
            "cell_type": "code", 
            "metadata": {}, 
            "outputs": [
                {
                    "output_type": "execute_result", 
                    "data": {
                        "text/plain": "             Borough                                      Neighbourhood  \\\n0               York              Keelesdale, Mount Dennis, Silverthorn   \n1         North York                                     Downsview West   \n2       West Toronto                                 Dovercourt Village   \n3         North York                                    Bayview Village   \n4          Etobicoke       Islington, Princess Gardens, West Deane Park   \n5         North York                                   Victoria Village   \n6   Downtown Toronto                                     St. James Town   \n7       West Toronto                 Exhibition Place, Parkdale Village   \n8       West Toronto                             Parkdale, Roncesvalles   \n9   Downtown Toronto  CN Tower, King and Spadina, Railway Lands, Sou...   \n10         Etobicoke                                      Markland Wood   \n11  Downtown Toronto                              University of Toronto   \n12       Scarborough                                          Agincourt   \n13        North York                                    Flemingdon Park   \n\n   Postcode  \n0       M6M  \n1       M3L  \n2       M6H  \n3       M2K  \n4       M9B  \n5       M4A  \n6       M5C  \n7       M6K  \n8       M6R  \n9       M5V  \n10      M9C  \n11      M5S  \n12      M1S  \n13      M3C  ", 
                        "text/html": "<div>\n<style scoped>\n    .dataframe tbody tr th:only-of-type {\n        vertical-align: middle;\n    }\n\n    .dataframe tbody tr th {\n        vertical-align: top;\n    }\n\n    .dataframe thead th {\n        text-align: right;\n    }\n</style>\n<table border=\"1\" class=\"dataframe\">\n  <thead>\n    <tr style=\"text-align: right;\">\n      <th></th>\n      <th>Borough</th>\n      <th>Neighbourhood</th>\n      <th>Postcode</th>\n    </tr>\n  </thead>\n  <tbody>\n    <tr>\n      <th>0</th>\n      <td>York</td>\n      <td>Keelesdale, Mount Dennis, Silverthorn</td>\n      <td>M6M</td>\n    </tr>\n    <tr>\n      <th>1</th>\n      <td>North York</td>\n      <td>Downsview West</td>\n      <td>M3L</td>\n    </tr>\n    <tr>\n      <th>2</th>\n      <td>West Toronto</td>\n      <td>Dovercourt Village</td>\n      <td>M6H</td>\n    </tr>\n    <tr>\n      <th>3</th>\n      <td>North York</td>\n      <td>Bayview Village</td>\n      <td>M2K</td>\n    </tr>\n    <tr>\n      <th>4</th>\n      <td>Etobicoke</td>\n      <td>Islington, Princess Gardens, West Deane Park</td>\n      <td>M9B</td>\n    </tr>\n    <tr>\n      <th>5</th>\n      <td>North York</td>\n      <td>Victoria Village</td>\n      <td>M4A</td>\n    </tr>\n    <tr>\n      <th>6</th>\n      <td>Downtown Toronto</td>\n      <td>St. James Town</td>\n      <td>M5C</td>\n    </tr>\n    <tr>\n      <th>7</th>\n      <td>West Toronto</td>\n      <td>Exhibition Place, Parkdale Village</td>\n      <td>M6K</td>\n    </tr>\n    <tr>\n      <th>8</th>\n      <td>West Toronto</td>\n      <td>Parkdale, Roncesvalles</td>\n      <td>M6R</td>\n    </tr>\n    <tr>\n      <th>9</th>\n      <td>Downtown Toronto</td>\n      <td>CN Tower, King and Spadina, Railway Lands, Sou...</td>\n      <td>M5V</td>\n    </tr>\n    <tr>\n      <th>10</th>\n      <td>Etobicoke</td>\n      <td>Markland Wood</td>\n      <td>M9C</td>\n    </tr>\n    <tr>\n      <th>11</th>\n      <td>Downtown Toronto</td>\n      <td>University of Toronto</td>\n      <td>M5S</td>\n    </tr>\n    <tr>\n      <th>12</th>\n      <td>Scarborough</td>\n      <td>Agincourt</td>\n      <td>M1S</td>\n    </tr>\n    <tr>\n      <th>13</th>\n      <td>North York</td>\n      <td>Flemingdon Park</td>\n      <td>M3C</td>\n    </tr>\n  </tbody>\n</table>\n</div>"
                    }, 
                    "execution_count": 16, 
                    "metadata": {}
                }
            ], 
            "execution_count": 16
        }, 
        {
            "source": "#rows and cols\ndf_toronto.shape\n", 
            "cell_type": "code", 
            "metadata": {}, 
            "outputs": [
                {
                    "output_type": "execute_result", 
                    "data": {
                        "text/plain": "(77, 3)"
                    }, 
                    "execution_count": 12, 
                    "metadata": {}
                }
            ], 
            "execution_count": 12
        }, 
        {
            "source": "", 
            "cell_type": "code", 
            "metadata": {}, 
            "outputs": [], 
            "execution_count": null
        }
    ], 
    "metadata": {
        "kernelspec": {
            "display_name": "Python 3.5", 
            "name": "python3", 
            "language": "python"
        }, 
        "language_info": {
            "mimetype": "text/x-python", 
            "nbconvert_exporter": "python", 
            "version": "3.5.5", 
            "name": "python", 
            "pygments_lexer": "ipython3", 
            "file_extension": ".py", 
            "codemirror_mode": {
                "version": 3, 
                "name": "ipython"
            }
        }
    }, 
    "nbformat": 4
}